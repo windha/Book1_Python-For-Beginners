{
 "cells": [
  {
   "cell_type": "code",
   "execution_count": null,
   "id": "da328b27",
   "metadata": {},
   "outputs": [
    {
     "name": "stdout",
     "output_type": "stream",
     "text": [
      "原向量: [1 2 3]\n",
      "标量: 3\n",
      "数乘结果: [3 6 9]\n",
      "使用 * 运算符: [3 6 9]\n"
     ]
    }
   ],
   "source": [
    "import numpy as np\n",
    "#基本数乘操作\n",
    "\n",
    "# 使用 numpy.multiply 实现数乘\n",
    "vector = np.array([1, 2, 3])\n",
    "scalar = 3\n",
    "result = np.multiply(vector, scalar)\n",
    "print(f\"原向量: {vector}\")\n",
    "print(f\"标量: {scalar}\")\n",
    "print(f\"数乘结果: {result}\")  # 输出: [3 6 9]\n",
    "\n",
    "# 也可以直接使用 * 运算符\n",
    "result2 = vector * scalar\n",
    "print(f\"使用 * 运算符: {result2}\")  # 输出: [3 6 9]"
   ]
  },
  {
   "cell_type": "code",
   "execution_count": null,
   "id": "b09402be",
   "metadata": {},
   "outputs": [
    {
     "name": "stdout",
     "output_type": "stream",
     "text": [
      "二维向量:\n",
      "[[1 2]\n",
      " [3 4]]\n",
      "数乘结果:\n",
      "[[2 4]\n",
      " [6 8]]\n",
      "三维向量: [1 2 3 4 5]\n",
      "数乘结果: [ -2  -4  -6  -8 -10]\n"
     ]
    }
   ],
   "source": [
    "import numpy as np\n",
    "#不同维度向量的数乘\n",
    "\n",
    "# 二维向量数乘\n",
    "vector_2d = np.array([[1, 2], [3, 4]])\n",
    "scalar = 2\n",
    "result_2d = np.multiply(vector_2d, scalar)\n",
    "print(f\"二维向量:\\n{vector_2d}\")\n",
    "print(f\"数乘结果:\\n{result_2d}\")\n",
    "# 输出:\n",
    "# 二维向量:\n",
    "# [[1 2]\n",
    "#  [3 4]]\n",
    "# 数乘结果:\n",
    "# [[2 4]\n",
    "#  [6 8]]\n",
    "\n",
    "# 三维向量数乘\n",
    "vector_3d = np.array([1, 2, 3, 4, 5])\n",
    "scalar = -2\n",
    "result_3d = np.multiply(vector_3d, scalar)\n",
    "print(f\"三维向量: {vector_3d}\")\n",
    "print(f\"数乘结果: {result_3d}\")  # 输出: [-2 -4 -6 -8 -10]"
   ]
  },
  {
   "cell_type": "code",
   "execution_count": 3,
   "id": "8140c26d",
   "metadata": {},
   "outputs": [
    {
     "name": "stdout",
     "output_type": "stream",
     "text": [
      "向量: [1 2 3]\n",
      "标量数组: [2 3 4]\n",
      "广播数乘结果: [ 2  6 12]\n",
      "列向量:\n",
      "[[1]\n",
      " [2]\n",
      " [3]]\n",
      "行标量: [2 3 4]\n",
      "广播数乘结果:\n",
      "[[ 2  3  4]\n",
      " [ 4  6  8]\n",
      " [ 6  9 12]]\n"
     ]
    }
   ],
   "source": [
    "import numpy as np\n",
    "\n",
    "# 向量与多个标量的广播数乘\n",
    "vector = np.array([1, 2, 3])\n",
    "scalars = np.array([2, 3, 4])\n",
    "result = np.multiply(vector, scalars)\n",
    "print(f\"向量: {vector}\")\n",
    "print(f\"标量数组: {scalars}\")\n",
    "print(f\"广播数乘结果: {result}\")  # 输出: [ 2  6 12]\n",
    "\n",
    "# 列向量与行标量的广播数乘\n",
    "vector_col = np.array([[1], [2], [3]])  # 3x1 列向量\n",
    "scalars_row = np.array([2, 3, 4])       # 1x3 行标量\n",
    "result_broadcast = np.multiply(vector_col, scalars_row)\n",
    "print(f\"列向量:\\n{vector_col}\")\n",
    "print(f\"行标量: {scalars_row}\")\n",
    "print(f\"广播数乘结果:\\n{result_broadcast}\")\n",
    "# 输出:\n",
    "# 列向量:\n",
    "# [[1]\n",
    "#  [2]\n",
    "#  [3]]\n",
    "# 行标量: [2 3 4]\n",
    "# 广播数乘结果:\n",
    "# [[ 2  3  4]\n",
    "#  [ 4  6  8]\n",
    "#  [ 6  9 12]]"
   ]
  },
  {
   "cell_type": "code",
   "execution_count": 4,
   "id": "34853d8e",
   "metadata": {},
   "outputs": [
    {
     "name": "stdout",
     "output_type": "stream",
     "text": [
      "数乘结果: [2.5 5.  7.5]\n",
      "输出数组: [2.5 5.  7.5]\n"
     ]
    }
   ],
   "source": [
    "import numpy as np\n",
    "#使用 out 参数进行数乘\n",
    "\n",
    "# 使用预分配数组存储结果\n",
    "vector = np.array([1.0, 2.0, 3.0])\n",
    "scalar = 2.5\n",
    "output = np.empty_like(vector)\n",
    "result = np.multiply(vector, scalar, out=output)\n",
    "print(f\"数乘结果: {result}\")\n",
    "print(f\"输出数组: {output}\")\n",
    "# 输出:\n",
    "# 数乘结果: [2.5 5.  7.5]\n",
    "# 输出数组: [2.5 5.  7.5]"
   ]
  },
  {
   "cell_type": "code",
   "execution_count": 5,
   "id": "d5913215",
   "metadata": {},
   "outputs": [
    {
     "name": "stdout",
     "output_type": "stream",
     "text": [
      "分配律验证:\n",
      "(a + b) * vector = [ 5 10 15]\n",
      "a * vector + b * vector = [ 5 10 15]\n",
      "是否相等: True\n",
      "\n",
      "结合律验证:\n",
      "(a * b) * vector = [ 6 12 18]\n",
      "a * (b * vector) = [ 6 12 18]\n",
      "是否相等: True\n"
     ]
    }
   ],
   "source": [
    "import numpy as np\n",
    "\n",
    "# 验证数乘的数学性质\n",
    "vector = np.array([1, 2, 3])\n",
    "a, b = 2, 3\n",
    "\n",
    "# 分配律: (a + b) * vector = a * vector + b * vector\n",
    "left_side = np.multiply((a + b), vector)\n",
    "right_side = np.add(np.multiply(a, vector), np.multiply(b, vector))\n",
    "print(f\"分配律验证:\")\n",
    "print(f\"(a + b) * vector = {left_side}\")      # [5 10 15]\n",
    "print(f\"a * vector + b * vector = {right_side}\")  # [5 10 15]\n",
    "print(f\"是否相等: {np.array_equal(left_side, right_side)}\")  # True\n",
    "\n",
    "# 结合律: (a * b) * vector = a * (b * vector)\n",
    "left_side2 = np.multiply((a * b), vector)\n",
    "right_side2 = np.multiply(a, np.multiply(b, vector))\n",
    "print(f\"\\n结合律验证:\")\n",
    "print(f\"(a * b) * vector = {left_side2}\")        # [6 12 18]\n",
    "print(f\"a * (b * vector) = {right_side2}\")       # [6 12 18]\n",
    "print(f\"是否相等: {np.array_equal(left_side2, right_side2)}\")  # True"
   ]
  }
 ],
 "metadata": {
  "kernelspec": {
   "display_name": ".venv",
   "language": "python",
   "name": "python3"
  },
  "language_info": {
   "codemirror_mode": {
    "name": "ipython",
    "version": 3
   },
   "file_extension": ".py",
   "mimetype": "text/x-python",
   "name": "python",
   "nbconvert_exporter": "python",
   "pygments_lexer": "ipython3",
   "version": "3.10.18"
  }
 },
 "nbformat": 4,
 "nbformat_minor": 5
}
