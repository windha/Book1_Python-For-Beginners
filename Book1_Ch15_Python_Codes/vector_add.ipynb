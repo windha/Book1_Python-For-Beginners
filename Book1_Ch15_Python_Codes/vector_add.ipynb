{
 "cells": [
  {
   "cell_type": "code",
   "execution_count": 1,
   "id": "1b5e955b",
   "metadata": {},
   "outputs": [
    {
     "name": "stdout",
     "output_type": "stream",
     "text": [
      "向量 a: [3 4]\n",
      "向量 b: [1 2]\n",
      "a + b = [4 6]\n"
     ]
    }
   ],
   "source": [
    "import numpy as np\n",
    "\n",
    "# 数学练习: 向量 a = (3, 4), 向量 b = (1, 2)\n",
    "# 数学计算: a + b = (3+1, 4+2) = (4, 6)\n",
    "a = np.array([3, 4])\n",
    "b = np.array([1, 2])\n",
    "result = np.add(a, b)\n",
    "print(f\"向量 a: {a}\")\n",
    "print(f\"向量 b: {b}\")\n",
    "print(f\"a + b = {result}\")  # 输出: [4 6]"
   ]
  },
  {
   "cell_type": "code",
   "execution_count": 2,
   "id": "36fa46ad",
   "metadata": {},
   "outputs": [
    {
     "name": "stdout",
     "output_type": "stream",
     "text": [
      "向量 u: [1 2 3]\n",
      "向量 v: [4 5 6]\n",
      "u + v = [5 7 9]\n"
     ]
    }
   ],
   "source": [
    "import numpy as np\n",
    "\n",
    "# 数学练习: 向量 u = (1, 2, 3), 向量 v = (4, 5, 6)\n",
    "# 数学计算: u + v = (1+4, 2+5, 3+6) = (5, 7, 9)\n",
    "u = np.array([1, 2, 3])\n",
    "v = np.array([4, 5, 6])\n",
    "result = np.add(u, v)\n",
    "print(f\"向量 u: {u}\")\n",
    "print(f\"向量 v: {v}\")\n",
    "print(f\"u + v = {result}\")  # 输出: [5 7 9]"
   ]
  },
  {
   "cell_type": "code",
   "execution_count": 3,
   "id": "4151d7e1",
   "metadata": {},
   "outputs": [
    {
     "name": "stdout",
     "output_type": "stream",
     "text": [
      "a + b + c = [ 9 12]\n",
      "直接计算: [ 9 12]\n"
     ]
    }
   ],
   "source": [
    "import numpy as np\n",
    "\n",
    "# 数学练习: 向量 a = (1, 2), b = (3, 4), c = (5, 6)\n",
    "# 数学计算: a + b + c = (1+3+5, 2+4+6) = (9, 12)\n",
    "a = np.array([1, 2])\n",
    "b = np.array([3, 4])\n",
    "c = np.array([5, 6])\n",
    "\n",
    "# 分步计算\n",
    "step1 = np.add(a, b)        # a + b = (4, 6)\n",
    "result = np.add(step1, c)   # (a + b) + c = (9, 12)\n",
    "print(f\"a + b + c = {result}\")  # 输出: [ 9 12]\n",
    "\n",
    "# 或者一次性计算\n",
    "result_direct = np.add(np.add(a, b), c)\n",
    "print(f\"直接计算: {result_direct}\")  # 输出: [ 9 12]"
   ]
  },
  {
   "cell_type": "code",
   "execution_count": 4,
   "id": "0b08b585",
   "metadata": {},
   "outputs": [
    {
     "name": "stdout",
     "output_type": "stream",
     "text": [
      "向量 u: [2 1]\n",
      "向量 v: [1 3]\n",
      "u + v: [3 4]\n",
      "这与数学中平行四边形对角线的计算结果一致\n"
     ]
    }
   ],
   "source": [
    "import numpy as np\n",
    "\n",
    "# 验证向量加法的平行四边形法则\n",
    "# 向量 u 和 v 构成平行四边形，u+v 是对角线向量\n",
    "u = np.array([2, 1])  # 向量 u\n",
    "v = np.array([1, 3])  # 向量 v\n",
    "sum_vector = np.add(u, v)  # u + v\n",
    "\n",
    "print(f\"向量 u: {u}\")\n",
    "print(f\"向量 v: {v}\")\n",
    "print(f\"u + v: {sum_vector}\")  # 输出: [3 4]\n",
    "print(\"这与数学中平行四边形对角线的计算结果一致\")"
   ]
  },
  {
   "cell_type": "code",
   "execution_count": 5,
   "id": "4f7424ab",
   "metadata": {},
   "outputs": [
    {
     "name": "stdout",
     "output_type": "stream",
     "text": [
      "向量 + 零向量 = [ 3 -2  5]\n",
      "向量 + 负向量 = [0 0 0]\n"
     ]
    }
   ],
   "source": [
    "import numpy as np\n",
    "\n",
    "# 零向量\n",
    "vector = np.array([3, -2, 5])\n",
    "zero_vector = np.array([0, 0, 0])\n",
    "result1 = np.add(vector, zero_vector)\n",
    "print(f\"向量 + 零向量 = {result1}\")  # 输出: [ 3 -2  5]\n",
    "\n",
    "# 负向量（相反向量）\n",
    "vector = np.array([4, -1, 2])\n",
    "negative_vector = np.array([-4, 1, -2])\n",
    "result2 = np.add(vector, negative_vector)\n",
    "print(f\"向量 + 负向量 = {result2}\")  # 输出: [0 0 0]"
   ]
  }
 ],
 "metadata": {
  "kernelspec": {
   "display_name": ".venv",
   "language": "python",
   "name": "python3"
  },
  "language_info": {
   "codemirror_mode": {
    "name": "ipython",
    "version": 3
   },
   "file_extension": ".py",
   "mimetype": "text/x-python",
   "name": "python",
   "nbconvert_exporter": "python",
   "pygments_lexer": "ipython3",
   "version": "3.10.18"
  }
 },
 "nbformat": 4,
 "nbformat_minor": 5
}
